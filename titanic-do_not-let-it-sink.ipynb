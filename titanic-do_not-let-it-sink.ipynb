{
 "cells": [
  {
   "cell_type": "code",
   "execution_count": 1,
   "metadata": {
    "_cell_guid": "b1076dfc-b9ad-4769-8c92-a6c4dae69d19",
    "_uuid": "8f2839f25d086af736a60e9eeb907d3b93b6e0e5",
    "execution": {
     "iopub.execute_input": "2020-12-13T12:36:13.848865Z",
     "iopub.status.busy": "2020-12-13T12:36:13.847829Z",
     "iopub.status.idle": "2020-12-13T12:36:13.858105Z",
     "shell.execute_reply": "2020-12-13T12:36:13.858726Z"
    },
    "papermill": {
     "duration": 0.04074,
     "end_time": "2020-12-13T12:36:13.858898",
     "exception": false,
     "start_time": "2020-12-13T12:36:13.818158",
     "status": "completed"
    },
    "tags": []
   },
   "outputs": [
    {
     "name": "stdout",
     "output_type": "stream",
     "text": [
      "/kaggle/input/titanic/train.csv\n",
      "/kaggle/input/titanic/test.csv\n",
      "/kaggle/input/titanic/gender_submission.csv\n"
     ]
    }
   ],
   "source": [
    "# This Python 3 environment comes with many helpful analytics libraries installed\n",
    "# It is defined by the kaggle/python Docker image: https://github.com/kaggle/docker-python\n",
    "# For example, here's several helpful packages to load\n",
    "\n",
    "import numpy as np # linear algebra\n",
    "import pandas as pd # data processing, CSV file I/O (e.g. pd.read_csv)\n",
    "\n",
    "# Input data files are available in the read-only \"../input/\" directory\n",
    "# For example, running this (by clicking run or pressing Shift+Enter) will list all files under the input directory\n",
    "\n",
    "import os\n",
    "for dirname, _, filenames in os.walk('/kaggle/input'):\n",
    "    for filename in filenames:\n",
    "        print(os.path.join(dirname, filename))\n",
    "\n",
    "# You can write up to 20GB to the current directory (/kaggle/working/) that gets preserved as output when you create a version using \"Save & Run All\" \n",
    "# You can also write temporary files to /kaggle/temp/, but they won't be saved outside of the current session"
   ]
  },
  {
   "cell_type": "code",
   "execution_count": 2,
   "metadata": {
    "_cell_guid": "79c7e3d0-c299-4dcb-8224-4455121ee9b0",
    "_uuid": "d629ff2d2480ee46fbb7e2d37f6b5fab8052498a",
    "execution": {
     "iopub.execute_input": "2020-12-13T12:36:13.915215Z",
     "iopub.status.busy": "2020-12-13T12:36:13.914533Z",
     "iopub.status.idle": "2020-12-13T12:36:13.948367Z",
     "shell.execute_reply": "2020-12-13T12:36:13.947657Z"
    },
    "papermill": {
     "duration": 0.063738,
     "end_time": "2020-12-13T12:36:13.948490",
     "exception": false,
     "start_time": "2020-12-13T12:36:13.884752",
     "status": "completed"
    },
    "tags": []
   },
   "outputs": [
    {
     "name": "stdout",
     "output_type": "stream",
     "text": [
      "The csv files are loaded as Dataframe.\n"
     ]
    }
   ],
   "source": [
    "pd.options.display.float_format = \"{:.4f}\".format\n",
    "# load train and test file as pandas dataframe\n",
    "titanic_train_org = pd.read_csv('/kaggle/input/titanic/train.csv')\n",
    "titanic_test = pd.read_csv('/kaggle/input/titanic/test.csv')\n",
    "print(\"The csv files are loaded as Dataframe.\")"
   ]
  },
  {
   "cell_type": "code",
   "execution_count": 3,
   "metadata": {
    "execution": {
     "iopub.execute_input": "2020-12-13T12:36:14.003523Z",
     "iopub.status.busy": "2020-12-13T12:36:14.002816Z",
     "iopub.status.idle": "2020-12-13T12:36:14.008305Z",
     "shell.execute_reply": "2020-12-13T12:36:14.007671Z"
    },
    "papermill": {
     "duration": 0.03396,
     "end_time": "2020-12-13T12:36:14.008440",
     "exception": false,
     "start_time": "2020-12-13T12:36:13.974480",
     "status": "completed"
    },
    "tags": []
   },
   "outputs": [],
   "source": [
    "# copy the data and play with duplicate \n",
    "train = titanic_train_org.copy()"
   ]
  },
  {
   "cell_type": "code",
   "execution_count": 4,
   "metadata": {
    "execution": {
     "iopub.execute_input": "2020-12-13T12:36:14.083538Z",
     "iopub.status.busy": "2020-12-13T12:36:14.082832Z",
     "iopub.status.idle": "2020-12-13T12:36:14.096685Z",
     "shell.execute_reply": "2020-12-13T12:36:14.095982Z"
    },
    "papermill": {
     "duration": 0.06154,
     "end_time": "2020-12-13T12:36:14.096803",
     "exception": false,
     "start_time": "2020-12-13T12:36:14.035263",
     "status": "completed"
    },
    "tags": []
   },
   "outputs": [
    {
     "data": {
      "text/html": [
       "<div>\n",
       "<style scoped>\n",
       "    .dataframe tbody tr th:only-of-type {\n",
       "        vertical-align: middle;\n",
       "    }\n",
       "\n",
       "    .dataframe tbody tr th {\n",
       "        vertical-align: top;\n",
       "    }\n",
       "\n",
       "    .dataframe thead th {\n",
       "        text-align: right;\n",
       "    }\n",
       "</style>\n",
       "<table border=\"1\" class=\"dataframe\">\n",
       "  <thead>\n",
       "    <tr style=\"text-align: right;\">\n",
       "      <th></th>\n",
       "      <th>PassengerId</th>\n",
       "      <th>Survived</th>\n",
       "      <th>Pclass</th>\n",
       "      <th>Name</th>\n",
       "      <th>Sex</th>\n",
       "      <th>Age</th>\n",
       "      <th>SibSp</th>\n",
       "      <th>Parch</th>\n",
       "      <th>Ticket</th>\n",
       "      <th>Fare</th>\n",
       "      <th>Cabin</th>\n",
       "      <th>Embarked</th>\n",
       "    </tr>\n",
       "  </thead>\n",
       "  <tbody>\n",
       "    <tr>\n",
       "      <th>0</th>\n",
       "      <td>1</td>\n",
       "      <td>0</td>\n",
       "      <td>3</td>\n",
       "      <td>Braund, Mr. Owen Harris</td>\n",
       "      <td>male</td>\n",
       "      <td>22.0000</td>\n",
       "      <td>1</td>\n",
       "      <td>0</td>\n",
       "      <td>A/5 21171</td>\n",
       "      <td>7.2500</td>\n",
       "      <td>NaN</td>\n",
       "      <td>S</td>\n",
       "    </tr>\n",
       "    <tr>\n",
       "      <th>1</th>\n",
       "      <td>2</td>\n",
       "      <td>1</td>\n",
       "      <td>1</td>\n",
       "      <td>Cumings, Mrs. John Bradley (Florence Briggs Th...</td>\n",
       "      <td>female</td>\n",
       "      <td>38.0000</td>\n",
       "      <td>1</td>\n",
       "      <td>0</td>\n",
       "      <td>PC 17599</td>\n",
       "      <td>71.2833</td>\n",
       "      <td>C85</td>\n",
       "      <td>C</td>\n",
       "    </tr>\n",
       "    <tr>\n",
       "      <th>2</th>\n",
       "      <td>3</td>\n",
       "      <td>1</td>\n",
       "      <td>3</td>\n",
       "      <td>Heikkinen, Miss. Laina</td>\n",
       "      <td>female</td>\n",
       "      <td>26.0000</td>\n",
       "      <td>0</td>\n",
       "      <td>0</td>\n",
       "      <td>STON/O2. 3101282</td>\n",
       "      <td>7.9250</td>\n",
       "      <td>NaN</td>\n",
       "      <td>S</td>\n",
       "    </tr>\n",
       "    <tr>\n",
       "      <th>3</th>\n",
       "      <td>4</td>\n",
       "      <td>1</td>\n",
       "      <td>1</td>\n",
       "      <td>Futrelle, Mrs. Jacques Heath (Lily May Peel)</td>\n",
       "      <td>female</td>\n",
       "      <td>35.0000</td>\n",
       "      <td>1</td>\n",
       "      <td>0</td>\n",
       "      <td>113803</td>\n",
       "      <td>53.1000</td>\n",
       "      <td>C123</td>\n",
       "      <td>S</td>\n",
       "    </tr>\n",
       "    <tr>\n",
       "      <th>4</th>\n",
       "      <td>5</td>\n",
       "      <td>0</td>\n",
       "      <td>3</td>\n",
       "      <td>Allen, Mr. William Henry</td>\n",
       "      <td>male</td>\n",
       "      <td>35.0000</td>\n",
       "      <td>0</td>\n",
       "      <td>0</td>\n",
       "      <td>373450</td>\n",
       "      <td>8.0500</td>\n",
       "      <td>NaN</td>\n",
       "      <td>S</td>\n",
       "    </tr>\n",
       "  </tbody>\n",
       "</table>\n",
       "</div>"
      ],
      "text/plain": [
       "   PassengerId  Survived  Pclass  \\\n",
       "0            1         0       3   \n",
       "1            2         1       1   \n",
       "2            3         1       3   \n",
       "3            4         1       1   \n",
       "4            5         0       3   \n",
       "\n",
       "                                                Name     Sex     Age  SibSp  \\\n",
       "0                            Braund, Mr. Owen Harris    male 22.0000      1   \n",
       "1  Cumings, Mrs. John Bradley (Florence Briggs Th...  female 38.0000      1   \n",
       "2                             Heikkinen, Miss. Laina  female 26.0000      0   \n",
       "3       Futrelle, Mrs. Jacques Heath (Lily May Peel)  female 35.0000      1   \n",
       "4                           Allen, Mr. William Henry    male 35.0000      0   \n",
       "\n",
       "   Parch            Ticket    Fare Cabin Embarked  \n",
       "0      0         A/5 21171  7.2500   NaN        S  \n",
       "1      0          PC 17599 71.2833   C85        C  \n",
       "2      0  STON/O2. 3101282  7.9250   NaN        S  \n",
       "3      0            113803 53.1000  C123        S  \n",
       "4      0            373450  8.0500   NaN        S  "
      ]
     },
     "execution_count": 4,
     "metadata": {},
     "output_type": "execute_result"
    }
   ],
   "source": [
    "# Analyzing the data \n",
    "train.head()"
   ]
  },
  {
   "cell_type": "code",
   "execution_count": 5,
   "metadata": {
    "execution": {
     "iopub.execute_input": "2020-12-13T12:36:14.167460Z",
     "iopub.status.busy": "2020-12-13T12:36:14.166602Z",
     "iopub.status.idle": "2020-12-13T12:36:14.170282Z",
     "shell.execute_reply": "2020-12-13T12:36:14.170801Z"
    },
    "papermill": {
     "duration": 0.047353,
     "end_time": "2020-12-13T12:36:14.170987",
     "exception": false,
     "start_time": "2020-12-13T12:36:14.123634",
     "status": "completed"
    },
    "tags": []
   },
   "outputs": [
    {
     "name": "stdout",
     "output_type": "stream",
     "text": [
      "<class 'pandas.core.frame.DataFrame'>\n",
      "RangeIndex: 891 entries, 0 to 890\n",
      "Data columns (total 12 columns):\n",
      " #   Column       Non-Null Count  Dtype  \n",
      "---  ------       --------------  -----  \n",
      " 0   PassengerId  891 non-null    int64  \n",
      " 1   Survived     891 non-null    int64  \n",
      " 2   Pclass       891 non-null    int64  \n",
      " 3   Name         891 non-null    object \n",
      " 4   Sex          891 non-null    object \n",
      " 5   Age          714 non-null    float64\n",
      " 6   SibSp        891 non-null    int64  \n",
      " 7   Parch        891 non-null    int64  \n",
      " 8   Ticket       891 non-null    object \n",
      " 9   Fare         891 non-null    float64\n",
      " 10  Cabin        204 non-null    object \n",
      " 11  Embarked     889 non-null    object \n",
      "dtypes: float64(2), int64(5), object(5)\n",
      "memory usage: 83.7+ KB\n"
     ]
    }
   ],
   "source": [
    "train.info()"
   ]
  },
  {
   "cell_type": "code",
   "execution_count": 6,
   "metadata": {
    "execution": {
     "iopub.execute_input": "2020-12-13T12:36:14.235428Z",
     "iopub.status.busy": "2020-12-13T12:36:14.234647Z",
     "iopub.status.idle": "2020-12-13T12:36:14.259729Z",
     "shell.execute_reply": "2020-12-13T12:36:14.260274Z"
    },
    "papermill": {
     "duration": 0.061155,
     "end_time": "2020-12-13T12:36:14.260427",
     "exception": false,
     "start_time": "2020-12-13T12:36:14.199272",
     "status": "completed"
    },
    "tags": []
   },
   "outputs": [
    {
     "data": {
      "text/html": [
       "<div>\n",
       "<style scoped>\n",
       "    .dataframe tbody tr th:only-of-type {\n",
       "        vertical-align: middle;\n",
       "    }\n",
       "\n",
       "    .dataframe tbody tr th {\n",
       "        vertical-align: top;\n",
       "    }\n",
       "\n",
       "    .dataframe thead th {\n",
       "        text-align: right;\n",
       "    }\n",
       "</style>\n",
       "<table border=\"1\" class=\"dataframe\">\n",
       "  <thead>\n",
       "    <tr style=\"text-align: right;\">\n",
       "      <th></th>\n",
       "      <th>PassengerId</th>\n",
       "      <th>Survived</th>\n",
       "      <th>Pclass</th>\n",
       "      <th>Age</th>\n",
       "      <th>SibSp</th>\n",
       "      <th>Parch</th>\n",
       "      <th>Fare</th>\n",
       "    </tr>\n",
       "  </thead>\n",
       "  <tbody>\n",
       "    <tr>\n",
       "      <th>count</th>\n",
       "      <td>891.0000</td>\n",
       "      <td>891.0000</td>\n",
       "      <td>891.0000</td>\n",
       "      <td>714.0000</td>\n",
       "      <td>891.0000</td>\n",
       "      <td>891.0000</td>\n",
       "      <td>891.0000</td>\n",
       "    </tr>\n",
       "    <tr>\n",
       "      <th>mean</th>\n",
       "      <td>446.0000</td>\n",
       "      <td>0.3838</td>\n",
       "      <td>2.3086</td>\n",
       "      <td>29.6991</td>\n",
       "      <td>0.5230</td>\n",
       "      <td>0.3816</td>\n",
       "      <td>32.2042</td>\n",
       "    </tr>\n",
       "    <tr>\n",
       "      <th>std</th>\n",
       "      <td>257.3538</td>\n",
       "      <td>0.4866</td>\n",
       "      <td>0.8361</td>\n",
       "      <td>14.5265</td>\n",
       "      <td>1.1027</td>\n",
       "      <td>0.8061</td>\n",
       "      <td>49.6934</td>\n",
       "    </tr>\n",
       "    <tr>\n",
       "      <th>min</th>\n",
       "      <td>1.0000</td>\n",
       "      <td>0.0000</td>\n",
       "      <td>1.0000</td>\n",
       "      <td>0.4200</td>\n",
       "      <td>0.0000</td>\n",
       "      <td>0.0000</td>\n",
       "      <td>0.0000</td>\n",
       "    </tr>\n",
       "    <tr>\n",
       "      <th>25%</th>\n",
       "      <td>223.5000</td>\n",
       "      <td>0.0000</td>\n",
       "      <td>2.0000</td>\n",
       "      <td>20.1250</td>\n",
       "      <td>0.0000</td>\n",
       "      <td>0.0000</td>\n",
       "      <td>7.9104</td>\n",
       "    </tr>\n",
       "    <tr>\n",
       "      <th>50%</th>\n",
       "      <td>446.0000</td>\n",
       "      <td>0.0000</td>\n",
       "      <td>3.0000</td>\n",
       "      <td>28.0000</td>\n",
       "      <td>0.0000</td>\n",
       "      <td>0.0000</td>\n",
       "      <td>14.4542</td>\n",
       "    </tr>\n",
       "    <tr>\n",
       "      <th>75%</th>\n",
       "      <td>668.5000</td>\n",
       "      <td>1.0000</td>\n",
       "      <td>3.0000</td>\n",
       "      <td>38.0000</td>\n",
       "      <td>1.0000</td>\n",
       "      <td>0.0000</td>\n",
       "      <td>31.0000</td>\n",
       "    </tr>\n",
       "    <tr>\n",
       "      <th>max</th>\n",
       "      <td>891.0000</td>\n",
       "      <td>1.0000</td>\n",
       "      <td>3.0000</td>\n",
       "      <td>80.0000</td>\n",
       "      <td>8.0000</td>\n",
       "      <td>6.0000</td>\n",
       "      <td>512.3292</td>\n",
       "    </tr>\n",
       "  </tbody>\n",
       "</table>\n",
       "</div>"
      ],
      "text/plain": [
       "       PassengerId  Survived   Pclass      Age    SibSp    Parch     Fare\n",
       "count     891.0000  891.0000 891.0000 714.0000 891.0000 891.0000 891.0000\n",
       "mean      446.0000    0.3838   2.3086  29.6991   0.5230   0.3816  32.2042\n",
       "std       257.3538    0.4866   0.8361  14.5265   1.1027   0.8061  49.6934\n",
       "min         1.0000    0.0000   1.0000   0.4200   0.0000   0.0000   0.0000\n",
       "25%       223.5000    0.0000   2.0000  20.1250   0.0000   0.0000   7.9104\n",
       "50%       446.0000    0.0000   3.0000  28.0000   0.0000   0.0000  14.4542\n",
       "75%       668.5000    1.0000   3.0000  38.0000   1.0000   0.0000  31.0000\n",
       "max       891.0000    1.0000   3.0000  80.0000   8.0000   6.0000 512.3292"
      ]
     },
     "execution_count": 6,
     "metadata": {},
     "output_type": "execute_result"
    }
   ],
   "source": [
    "train.describe()"
   ]
  },
  {
   "cell_type": "code",
   "execution_count": 7,
   "metadata": {
    "execution": {
     "iopub.execute_input": "2020-12-13T12:36:14.320082Z",
     "iopub.status.busy": "2020-12-13T12:36:14.319362Z",
     "iopub.status.idle": "2020-12-13T12:36:14.333149Z",
     "shell.execute_reply": "2020-12-13T12:36:14.332533Z"
    },
    "papermill": {
     "duration": 0.044669,
     "end_time": "2020-12-13T12:36:14.333275",
     "exception": false,
     "start_time": "2020-12-13T12:36:14.288606",
     "status": "completed"
    },
    "tags": []
   },
   "outputs": [
    {
     "data": {
      "text/plain": [
       "Survived       1.0000\n",
       "Fare           0.2573\n",
       "Parch          0.0816\n",
       "PassengerId   -0.0050\n",
       "SibSp         -0.0353\n",
       "Age           -0.0772\n",
       "Pclass        -0.3385\n",
       "Name: Survived, dtype: float64"
      ]
     },
     "execution_count": 7,
     "metadata": {},
     "output_type": "execute_result"
    }
   ],
   "source": [
    "corr_matrix = train.corr()\n",
    "corr_matrix[\"Survived\"].sort_values(ascending=False)"
   ]
  },
  {
   "cell_type": "code",
   "execution_count": 8,
   "metadata": {
    "execution": {
     "iopub.execute_input": "2020-12-13T12:36:14.394247Z",
     "iopub.status.busy": "2020-12-13T12:36:14.393213Z",
     "iopub.status.idle": "2020-12-13T12:36:14.647091Z",
     "shell.execute_reply": "2020-12-13T12:36:14.647571Z"
    },
    "papermill": {
     "duration": 0.285797,
     "end_time": "2020-12-13T12:36:14.647727",
     "exception": false,
     "start_time": "2020-12-13T12:36:14.361930",
     "status": "completed"
    },
    "tags": []
   },
   "outputs": [
    {
     "data": {
      "text/plain": [
       "<matplotlib.axes._subplots.AxesSubplot at 0x7ff2bea44190>"
      ]
     },
     "execution_count": 8,
     "metadata": {},
     "output_type": "execute_result"
    },
    {
     "data": {
      "image/png": "[encoded data removed]",
      "text/plain": [
       "<Figure size 432x288 with 1 Axes>"
      ]
     },
     "metadata": {
      "needs_background": "light"
     },
     "output_type": "display_data"
    }
   ],
   "source": [
    "# Let's explore now\n",
    "train.plot(kind=\"scatter\", x = \"Fare\", y =\"Survived\", alpha= 0.5)\n",
    "#splitt train set to validation and actual train set using cross validation"
   ]
  },
  {
   "cell_type": "code",
   "execution_count": 9,
   "metadata": {
    "execution": {
     "iopub.execute_input": "2020-12-13T12:36:14.712834Z",
     "iopub.status.busy": "2020-12-13T12:36:14.712173Z",
     "iopub.status.idle": "2020-12-13T12:36:15.952202Z",
     "shell.execute_reply": "2020-12-13T12:36:15.952705Z"
    },
    "papermill": {
     "duration": 1.275458,
     "end_time": "2020-12-13T12:36:15.952862",
     "exception": false,
     "start_time": "2020-12-13T12:36:14.677404",
     "status": "completed"
    },
    "tags": []
   },
   "outputs": [
    {
     "data": {
      "text/plain": [
       "array([[<matplotlib.axes._subplots.AxesSubplot object at 0x7ff2beab2b90>,\n",
       "        <matplotlib.axes._subplots.AxesSubplot object at 0x7ff2be801f10>,\n",
       "        <matplotlib.axes._subplots.AxesSubplot object at 0x7ff2be7575d0>],\n",
       "       [<matplotlib.axes._subplots.AxesSubplot object at 0x7ff2be78bc50>,\n",
       "        <matplotlib.axes._subplots.AxesSubplot object at 0x7ff2be74f310>,\n",
       "        <matplotlib.axes._subplots.AxesSubplot object at 0x7ff2be704990>],\n",
       "       [<matplotlib.axes._subplots.AxesSubplot object at 0x7ff2be6bcfd0>,\n",
       "        <matplotlib.axes._subplots.AxesSubplot object at 0x7ff2be67c690>,\n",
       "        <matplotlib.axes._subplots.AxesSubplot object at 0x7ff2be67c6d0>]],\n",
       "      dtype=object)"
      ]
     },
     "execution_count": 9,
     "metadata": {},
     "output_type": "execute_result"
    },
    {
     "data": {
      "image/png": "[encoded data removed]",
      "text/plain": [
       "<Figure size 1440x720 with 9 Axes>"
      ]
     },
     "metadata": {
      "needs_background": "light"
     },
     "output_type": "display_data"
    }
   ],
   "source": [
    "train.hist(bins=10, figsize=(20,10))"
   ]
  },
  {
   "cell_type": "code",
   "execution_count": 10,
   "metadata": {
    "execution": {
     "iopub.execute_input": "2020-12-13T12:36:16.019361Z",
     "iopub.status.busy": "2020-12-13T12:36:16.018607Z",
     "iopub.status.idle": "2020-12-13T12:36:16.027758Z",
     "shell.execute_reply": "2020-12-13T12:36:16.026735Z"
    },
    "papermill": {
     "duration": 0.043315,
     "end_time": "2020-12-13T12:36:16.027898",
     "exception": false,
     "start_time": "2020-12-13T12:36:15.984583",
     "status": "completed"
    },
    "tags": []
   },
   "outputs": [
    {
     "data": {
      "text/plain": [
       "0    549\n",
       "1    342\n",
       "Name: Survived, dtype: int64"
      ]
     },
     "execution_count": 10,
     "metadata": {},
     "output_type": "execute_result"
    }
   ],
   "source": [
    "# lets see how target value is distributed\n",
    "train.Survived.value_counts()"
   ]
  },
  {
   "cell_type": "code",
   "execution_count": 11,
   "metadata": {
    "execution": {
     "iopub.execute_input": "2020-12-13T12:36:16.098199Z",
     "iopub.status.busy": "2020-12-13T12:36:16.097230Z",
     "iopub.status.idle": "2020-12-13T12:36:16.127755Z",
     "shell.execute_reply": "2020-12-13T12:36:16.127018Z"
    },
    "papermill": {
     "duration": 0.068357,
     "end_time": "2020-12-13T12:36:16.127876",
     "exception": false,
     "start_time": "2020-12-13T12:36:16.059519",
     "status": "completed"
    },
    "tags": []
   },
   "outputs": [
    {
     "data": {
      "text/plain": [
       "0   0.6162\n",
       "1   0.3838\n",
       "Name: Survived, dtype: float64"
      ]
     },
     "execution_count": 11,
     "metadata": {},
     "output_type": "execute_result"
    }
   ],
   "source": [
    "# to see these conunt value in percentage \n",
    "train.Survived.value_counts(normalize=True)"
   ]
  },
  {
   "cell_type": "code",
   "execution_count": 12,
   "metadata": {
    "execution": {
     "iopub.execute_input": "2020-12-13T12:36:16.196112Z",
     "iopub.status.busy": "2020-12-13T12:36:16.195340Z",
     "iopub.status.idle": "2020-12-13T12:36:17.285034Z",
     "shell.execute_reply": "2020-12-13T12:36:17.285533Z"
    },
    "papermill": {
     "duration": 1.125569,
     "end_time": "2020-12-13T12:36:17.285689",
     "exception": false,
     "start_time": "2020-12-13T12:36:16.160120",
     "status": "completed"
    },
    "tags": []
   },
   "outputs": [
    {
     "name": "stdout",
     "output_type": "stream",
     "text": [
      "['female' 'male']\n"
     ]
    }
   ],
   "source": [
    "# want to see how the sex distribution is\n",
    "# I want my features to be categorised first\n",
    "from sklearn.preprocessing import OneHotEncoder, LabelEncoder\n",
    "\n",
    "#first I need a column of attributes that should be encoded \n",
    "cat_attrubutes = train[\"Sex\"]\n",
    "label_encoder = LabelEncoder()\n",
    "cat_attrubutes_encoded = label_encoder.fit_transform(cat_attrubutes)\n",
    "print(label_encoder.classes_)\n",
    "#cat_attrubutes_encoded\n",
    "#oh_encoder = OneHotEncoder()\n",
    "#sex_encoded\n"
   ]
  },
  {
   "cell_type": "code",
   "execution_count": 13,
   "metadata": {
    "execution": {
     "iopub.execute_input": "2020-12-13T12:36:17.359044Z",
     "iopub.status.busy": "2020-12-13T12:36:17.358141Z",
     "iopub.status.idle": "2020-12-13T12:36:19.264671Z",
     "shell.execute_reply": "2020-12-13T12:36:19.265209Z"
    },
    "papermill": {
     "duration": 1.947256,
     "end_time": "2020-12-13T12:36:19.265358",
     "exception": false,
     "start_time": "2020-12-13T12:36:17.318102",
     "status": "completed"
    },
    "tags": []
   },
   "outputs": [
    {
     "data": {
      "text/plain": [
       "array([[<matplotlib.axes._subplots.AxesSubplot object at 0x7ff2b714c890>,\n",
       "        <matplotlib.axes._subplots.AxesSubplot object at 0x7ff2b50357d0>,\n",
       "        <matplotlib.axes._subplots.AxesSubplot object at 0x7ff2b4fe9e50>,\n",
       "        <matplotlib.axes._subplots.AxesSubplot object at 0x7ff2b4fae510>,\n",
       "        <matplotlib.axes._subplots.AxesSubplot object at 0x7ff2b4f64b90>],\n",
       "       [<matplotlib.axes._subplots.AxesSubplot object at 0x7ff2b4f26250>,\n",
       "        <matplotlib.axes._subplots.AxesSubplot object at 0x7ff2b4edc950>,\n",
       "        <matplotlib.axes._subplots.AxesSubplot object at 0x7ff2b4e94f10>,\n",
       "        <matplotlib.axes._subplots.AxesSubplot object at 0x7ff2b4e94f50>,\n",
       "        <matplotlib.axes._subplots.AxesSubplot object at 0x7ff2b4e56690>],\n",
       "       [<matplotlib.axes._subplots.AxesSubplot object at 0x7ff2b4dcd2d0>,\n",
       "        <matplotlib.axes._subplots.AxesSubplot object at 0x7ff2b4e04950>,\n",
       "        <matplotlib.axes._subplots.AxesSubplot object at 0x7ff2b4dafb10>,\n",
       "        <matplotlib.axes._subplots.AxesSubplot object at 0x7ff2b4d7d690>,\n",
       "        <matplotlib.axes._subplots.AxesSubplot object at 0x7ff2b4d34d10>],\n",
       "       [<matplotlib.axes._subplots.AxesSubplot object at 0x7ff2b4cf53d0>,\n",
       "        <matplotlib.axes._subplots.AxesSubplot object at 0x7ff2b4caaa50>,\n",
       "        <matplotlib.axes._subplots.AxesSubplot object at 0x7ff2b4c6c110>,\n",
       "        <matplotlib.axes._subplots.AxesSubplot object at 0x7ff2b4c21790>,\n",
       "        <matplotlib.axes._subplots.AxesSubplot object at 0x7ff2b4bd9e10>],\n",
       "       [<matplotlib.axes._subplots.AxesSubplot object at 0x7ff2b4b9b4d0>,\n",
       "        <matplotlib.axes._subplots.AxesSubplot object at 0x7ff2b4b52b50>,\n",
       "        <matplotlib.axes._subplots.AxesSubplot object at 0x7ff2b4b13210>,\n",
       "        <matplotlib.axes._subplots.AxesSubplot object at 0x7ff2b4aca890>,\n",
       "        <matplotlib.axes._subplots.AxesSubplot object at 0x7ff2b4b00f10>]],\n",
       "      dtype=object)"
      ]
     },
     "execution_count": 13,
     "metadata": {},
     "output_type": "execute_result"
    },
    {
     "data": {
      "image/png": "[encoded data removed]",
      "text/plain": [
       "<Figure size 1440x720 with 25 Axes>"
      ]
     },
     "metadata": {
      "needs_background": "light"
     },
     "output_type": "display_data"
    }
   ],
   "source": [
    "# Now I want to drop the original column and put the new encoded column in my data \n",
    "from pandas.plotting import scatter_matrix\n",
    "\n",
    "train[\"Sex\"] = cat_attrubutes_encoded\n",
    "# scatter matrix to find the realation \n",
    "my_features = [\"Survived\", \"Sex\", \"Age\", \"Fare\", \"Pclass\"]\n",
    "scatter_matrix(train[my_features], figsize=(20,10))\n",
    "# scatter matrix is a bad choice for classification"
   ]
  },
  {
   "cell_type": "code",
   "execution_count": 14,
   "metadata": {
    "execution": {
     "iopub.execute_input": "2020-12-13T12:36:19.347017Z",
     "iopub.status.busy": "2020-12-13T12:36:19.346116Z",
     "iopub.status.idle": "2020-12-13T12:36:19.351040Z",
     "shell.execute_reply": "2020-12-13T12:36:19.349905Z"
    },
    "papermill": {
     "duration": 0.049975,
     "end_time": "2020-12-13T12:36:19.351199",
     "exception": false,
     "start_time": "2020-12-13T12:36:19.301224",
     "status": "completed"
    },
    "tags": []
   },
   "outputs": [
    {
     "data": {
      "text/plain": [
       "0.0000    468\n",
       "1.0000    109\n",
       "Name: Survived, dtype: int64"
      ]
     },
     "execution_count": 14,
     "metadata": {},
     "output_type": "execute_result"
    }
   ],
   "source": [
    "# What I am actually trying to achieve\n",
    "# I want to see the ration of surviving male and female\n",
    "# relationship between class and surviving \n",
    "train.Survived.where(train[\"Sex\"] == 1).value_counts()"
   ]
  },
  {
   "cell_type": "code",
   "execution_count": 15,
   "metadata": {
    "execution": {
     "iopub.execute_input": "2020-12-13T12:36:19.432905Z",
     "iopub.status.busy": "2020-12-13T12:36:19.431832Z",
     "iopub.status.idle": "2020-12-13T12:36:19.435789Z",
     "shell.execute_reply": "2020-12-13T12:36:19.436433Z"
    },
    "papermill": {
     "duration": 0.048141,
     "end_time": "2020-12-13T12:36:19.436584",
     "exception": false,
     "start_time": "2020-12-13T12:36:19.388443",
     "status": "completed"
    },
    "tags": []
   },
   "outputs": [
    {
     "data": {
      "text/plain": [
       "1    577\n",
       "0    314\n",
       "Name: Sex, dtype: int64"
      ]
     },
     "execution_count": 15,
     "metadata": {},
     "output_type": "execute_result"
    }
   ],
   "source": [
    "train.Sex.value_counts()"
   ]
  },
  {
   "cell_type": "code",
   "execution_count": 16,
   "metadata": {
    "execution": {
     "iopub.execute_input": "2020-12-13T12:36:19.520906Z",
     "iopub.status.busy": "2020-12-13T12:36:19.519904Z",
     "iopub.status.idle": "2020-12-13T12:36:19.524715Z",
     "shell.execute_reply": "2020-12-13T12:36:19.524026Z"
    },
    "papermill": {
     "duration": 0.051138,
     "end_time": "2020-12-13T12:36:19.524830",
     "exception": false,
     "start_time": "2020-12-13T12:36:19.473692",
     "status": "completed"
    },
    "tags": []
   },
   "outputs": [
    {
     "data": {
      "text/plain": [
       "24.0000    15\n",
       "36.0000    11\n",
       "35.0000    11\n",
       "27.0000    11\n",
       "22.0000    11\n",
       "           ..\n",
       "7.0000      1\n",
       "32.5000     1\n",
       "12.0000     1\n",
       "0.6700      1\n",
       "0.4200      1\n",
       "Name: Age, Length: 65, dtype: int64"
      ]
     },
     "execution_count": 16,
     "metadata": {},
     "output_type": "execute_result"
    }
   ],
   "source": [
    "# before filling up the missing vlaues, check about the data \n",
    "train.Age.where(train[\"Survived\"] == 1).value_counts()\n",
    "# should I fill with median value or should I wrtie "
   ]
  },
  {
   "cell_type": "code",
   "execution_count": 17,
   "metadata": {
    "execution": {
     "iopub.execute_input": "2020-12-13T12:36:19.610984Z",
     "iopub.status.busy": "2020-12-13T12:36:19.607429Z",
     "iopub.status.idle": "2020-12-13T12:36:19.615526Z",
     "shell.execute_reply": "2020-12-13T12:36:19.614861Z"
    },
    "papermill": {
     "duration": 0.052653,
     "end_time": "2020-12-13T12:36:19.615639",
     "exception": false,
     "start_time": "2020-12-13T12:36:19.562986",
     "status": "completed"
    },
    "tags": []
   },
   "outputs": [
    {
     "data": {
      "text/plain": [
       "21.0000    19\n",
       "28.0000    18\n",
       "25.0000    17\n",
       "18.0000    17\n",
       "22.0000    16\n",
       "           ..\n",
       "74.0000     1\n",
       "32.5000     1\n",
       "36.5000     1\n",
       "55.5000     1\n",
       "70.5000     1\n",
       "Name: Age, Length: 77, dtype: int64"
      ]
     },
     "execution_count": 17,
     "metadata": {},
     "output_type": "execute_result"
    }
   ],
   "source": [
    "# Age and survival relationship \n",
    "age_survive_rln = train.Age.where(train[\"Survived\"] == 0).value_counts()\n",
    "age_survive_rln\n",
    "\n"
   ]
  },
  {
   "cell_type": "code",
   "execution_count": 18,
   "metadata": {
    "execution": {
     "iopub.execute_input": "2020-12-13T12:36:19.702081Z",
     "iopub.status.busy": "2020-12-13T12:36:19.701206Z",
     "iopub.status.idle": "2020-12-13T12:36:19.978698Z",
     "shell.execute_reply": "2020-12-13T12:36:19.979262Z"
    },
    "papermill": {
     "duration": 0.326244,
     "end_time": "2020-12-13T12:36:19.979420",
     "exception": false,
     "start_time": "2020-12-13T12:36:19.653176",
     "status": "completed"
    },
    "tags": []
   },
   "outputs": [
    {
     "data": {
      "text/plain": [
       "<matplotlib.axes._subplots.AxesSubplot at 0x7ff2b470a250>"
      ]
     },
     "execution_count": 18,
     "metadata": {},
     "output_type": "execute_result"
    },
    {
     "data": {
      "image/png": "[encoded data removed]",
      "text/plain": [
       "<Figure size 1440x720 with 1 Axes>"
      ]
     },
     "metadata": {
      "needs_background": "light"
     },
     "output_type": "display_data"
    }
   ],
   "source": [
    "# its important to see how age is distributed \n",
    "train[\"Age\"].hist(bins=50, figsize=(20,10))"
   ]
  },
  {
   "cell_type": "code",
   "execution_count": 19,
   "metadata": {
    "execution": {
     "iopub.execute_input": "2020-12-13T12:36:20.066697Z",
     "iopub.status.busy": "2020-12-13T12:36:20.065083Z",
     "iopub.status.idle": "2020-12-13T12:36:20.071086Z",
     "shell.execute_reply": "2020-12-13T12:36:20.070328Z"
    },
    "papermill": {
     "duration": 0.052185,
     "end_time": "2020-12-13T12:36:20.071206",
     "exception": false,
     "start_time": "2020-12-13T12:36:20.019021",
     "status": "completed"
    },
    "tags": []
   },
   "outputs": [],
   "source": [
    "\n",
    "# I want to see age distributition according to survival\n",
    "train[\"survived_Age\"] = train[\"Age\"].where(train[\"Survived\"] == 1)\n",
    "train[\"died_Age\"] = train[\"Age\"].where(train[\"Survived\"] == 0)"
   ]
  },
  {
   "cell_type": "code",
   "execution_count": 20,
   "metadata": {
    "execution": {
     "iopub.execute_input": "2020-12-13T12:36:20.272851Z",
     "iopub.status.busy": "2020-12-13T12:36:20.167796Z",
     "iopub.status.idle": "2020-12-13T12:36:20.643201Z",
     "shell.execute_reply": "2020-12-13T12:36:20.642478Z"
    },
    "papermill": {
     "duration": 0.532628,
     "end_time": "2020-12-13T12:36:20.643373",
     "exception": false,
     "start_time": "2020-12-13T12:36:20.110745",
     "status": "completed"
    },
    "tags": []
   },
   "outputs": [
    {
     "data": {
      "text/plain": [
       "<matplotlib.axes._subplots.AxesSubplot at 0x7ff2b2e1a050>"
      ]
     },
     "execution_count": 20,
     "metadata": {},
     "output_type": "execute_result"
    },
    {
     "data": {
      "image/png": "[encoded data removed]",
      "text/plain": [
       "<Figure size 1800x576 with 1 Axes>"
      ]
     },
     "metadata": {
      "needs_background": "light"
     },
     "output_type": "display_data"
    }
   ],
   "source": [
    "train[\"survived_Age\"].hist(bins=50, figsize=(20,8))\n",
    "train[\"survived_Age\"].mean()\n",
    "train[\"died_Age\"].hist(bins=50, figsize=(25,8))"
   ]
  },
  {
   "cell_type": "code",
   "execution_count": 21,
   "metadata": {
    "execution": {
     "iopub.execute_input": "2020-12-13T12:36:20.742452Z",
     "iopub.status.busy": "2020-12-13T12:36:20.741233Z",
     "iopub.status.idle": "2020-12-13T12:36:20.755688Z",
     "shell.execute_reply": "2020-12-13T12:36:20.754889Z"
    },
    "papermill": {
     "duration": 0.072482,
     "end_time": "2020-12-13T12:36:20.755823",
     "exception": false,
     "start_time": "2020-12-13T12:36:20.683341",
     "status": "completed"
    },
    "tags": []
   },
   "outputs": [
    {
     "data": {
      "text/html": [
       "<div>\n",
       "<style scoped>\n",
       "    .dataframe tbody tr th:only-of-type {\n",
       "        vertical-align: middle;\n",
       "    }\n",
       "\n",
       "    .dataframe tbody tr th {\n",
       "        vertical-align: top;\n",
       "    }\n",
       "\n",
       "    .dataframe thead th {\n",
       "        text-align: right;\n",
       "    }\n",
       "</style>\n",
       "<table border=\"1\" class=\"dataframe\">\n",
       "  <thead>\n",
       "    <tr style=\"text-align: right;\">\n",
       "      <th>Sex</th>\n",
       "      <th>0</th>\n",
       "      <th>1</th>\n",
       "    </tr>\n",
       "    <tr>\n",
       "      <th>Survived</th>\n",
       "      <th></th>\n",
       "      <th></th>\n",
       "    </tr>\n",
       "  </thead>\n",
       "  <tbody>\n",
       "    <tr>\n",
       "      <th>0</th>\n",
       "      <td>81</td>\n",
       "      <td>468</td>\n",
       "    </tr>\n",
       "    <tr>\n",
       "      <th>1</th>\n",
       "      <td>233</td>\n",
       "      <td>109</td>\n",
       "    </tr>\n",
       "  </tbody>\n",
       "</table>\n",
       "</div>"
      ],
      "text/plain": [
       "Sex         0    1\n",
       "Survived          \n",
       "0          81  468\n",
       "1         233  109"
      ]
     },
     "execution_count": 21,
     "metadata": {},
     "output_type": "execute_result"
    }
   ],
   "source": [
    "# compare target column with sex column\n",
    "pd.crosstab(train.Survived, train.Sex)"
   ]
  },
  {
   "cell_type": "code",
   "execution_count": 22,
   "metadata": {
    "execution": {
     "iopub.execute_input": "2020-12-13T12:36:20.852424Z",
     "iopub.status.busy": "2020-12-13T12:36:20.848282Z",
     "iopub.status.idle": "2020-12-13T12:36:20.998430Z",
     "shell.execute_reply": "2020-12-13T12:36:20.997865Z"
    },
    "papermill": {
     "duration": 0.201871,
     "end_time": "2020-12-13T12:36:20.998552",
     "exception": false,
     "start_time": "2020-12-13T12:36:20.796681",
     "status": "completed"
    },
    "tags": []
   },
   "outputs": [
    {
     "data": {
      "image/png": "[encoded data removed]",
      "text/plain": [
       "<Figure size 720x432 with 1 Axes>"
      ]
     },
     "metadata": {
      "needs_background": "light"
     },
     "output_type": "display_data"
    }
   ],
   "source": [
    "# visual comparision\n",
    "pd.crosstab(train.Survived, train.Sex).plot(kind=\"bar\", \n",
    "                                    figsize=(10,6), \n",
    "                                    color=[\"orange\", \"blue\"]);"
   ]
  },
  {
   "cell_type": "code",
   "execution_count": 23,
   "metadata": {
    "execution": {
     "iopub.execute_input": "2020-12-13T12:36:21.100874Z",
     "iopub.status.busy": "2020-12-13T12:36:21.093336Z",
     "iopub.status.idle": "2020-12-13T12:36:21.248114Z",
     "shell.execute_reply": "2020-12-13T12:36:21.247580Z"
    },
    "papermill": {
     "duration": 0.20834,
     "end_time": "2020-12-13T12:36:21.248234",
     "exception": false,
     "start_time": "2020-12-13T12:36:21.039894",
     "status": "completed"
    },
    "tags": []
   },
   "outputs": [
    {
     "data": {
      "image/png": "[encoded data removed]",
      "text/plain": [
       "<Figure size 720x432 with 1 Axes>"
      ]
     },
     "metadata": {
      "needs_background": "light"
     },
     "output_type": "display_data"
    }
   ],
   "source": [
    "# to make the visual even more better with title and other label\n",
    "import matplotlib.pyplot as plt \n",
    "pd.crosstab(train.Survived, train.Sex).plot(kind=\"bar\", \n",
    "                                    figsize=(10,6), \n",
    "                                    color=[\"orange\", \"blue\"]);\n",
    "\n",
    "plt.title(\"Survival frequency for Sex\")\n",
    "plt.xlabel(\"0 = deceased, 1 = survived\")\n",
    "plt.ylabel(\"Number of person\")\n",
    "plt.legend([\"Female\", \"Male\"])\n",
    "plt.xticks(rotation=0); # keep the labels on the x-axis vertical"
   ]
  },
  {
   "cell_type": "code",
   "execution_count": 24,
   "metadata": {
    "execution": {
     "iopub.execute_input": "2020-12-13T12:36:21.348454Z",
     "iopub.status.busy": "2020-12-13T12:36:21.343859Z",
     "iopub.status.idle": "2020-12-13T12:36:21.542298Z",
     "shell.execute_reply": "2020-12-13T12:36:21.541572Z"
    },
    "papermill": {
     "duration": 0.251961,
     "end_time": "2020-12-13T12:36:21.542426",
     "exception": false,
     "start_time": "2020-12-13T12:36:21.290465",
     "status": "completed"
    },
    "tags": []
   },
   "outputs": [
    {
     "data": {
      "text/plain": [
       "Text(0, 0.5, 'Fare')"
      ]
     },
     "execution_count": 24,
     "metadata": {},
     "output_type": "execute_result"
    },
    {
     "data": {
      "image/png": "[encoded data removed]",
      "text/plain": [
       "<Figure size 720x432 with 1 Axes>"
      ]
     },
     "metadata": {
      "needs_background": "light"
     },
     "output_type": "display_data"
    }
   ],
   "source": [
    "# Create another figure\n",
    "plt.figure(figsize=(10,6))\n",
    "\n",
    "# male of different age who survived \n",
    "plt.scatter(train.Age[train.Survived==1], \n",
    "            train.Fare[train.Survived==1], \n",
    "            c=\"green\") # define it as a scatter figure\n",
    "\n",
    "# Man of different age who died \n",
    "plt.scatter(train.Age[train.Survived==0], \n",
    "            train.Fare[train.Survived==0], \n",
    "            c=\"red\") # axis always come as (x, y)\n",
    "\n",
    "# Add some helpful info\n",
    "plt.title(\"Survival with respect to Age and Fare\")\n",
    "plt.xlabel(\"Age\")\n",
    "plt.legend([\"Survived\", \"Deceased\"])\n",
    "plt.ylabel(\"Fare\")"
   ]
  },
  {
   "cell_type": "code",
   "execution_count": 25,
   "metadata": {
    "execution": {
     "iopub.execute_input": "2020-12-13T12:36:21.652081Z",
     "iopub.status.busy": "2020-12-13T12:36:21.648016Z",
     "iopub.status.idle": "2020-12-13T12:36:21.897734Z",
     "shell.execute_reply": "2020-12-13T12:36:21.897088Z"
    },
    "papermill": {
     "duration": 0.31105,
     "end_time": "2020-12-13T12:36:21.897854",
     "exception": false,
     "start_time": "2020-12-13T12:36:21.586804",
     "status": "completed"
    },
    "tags": []
   },
   "outputs": [
    {
     "data": {
      "text/plain": [
       "Text(0, 0.5, 'Pclass')"
      ]
     },
     "execution_count": 25,
     "metadata": {},
     "output_type": "execute_result"
    },
    {
     "data": {
      "image/png": "[encoded data removed]",
      "text/plain": [
       "<Figure size 720x432 with 1 Axes>"
      ]
     },
     "metadata": {
      "needs_background": "light"
     },
     "output_type": "display_data"
    }
   ],
   "source": [
    "# Survival with respect to sex and fare \n",
    "plt.figure(figsize=(10,6))\n",
    "\n",
    "# male of different age who survived \n",
    "plt.scatter(train.Age[train.Survived==1], \n",
    "            train.Pclass[train.Survived==1], \n",
    "            c=\"green\") # define it as a scatter figure\n",
    "\n",
    "# Man of different age who died \n",
    "plt.scatter(train.Age[train.Survived==0], \n",
    "            train.Pclass[train.Survived==0], \n",
    "            c=\"red\") # axis always come as (x, y)\n",
    "\n",
    "# Add some helpful info\n",
    "plt.title(\"Survival with respect to Age and Pclass\")\n",
    "plt.xlabel(\"Age\")\n",
    "plt.legend([\"Survived\", \"Deceased\"])\n",
    "plt.ylabel(\"Pclass\")"
   ]
  },
  {
   "cell_type": "code",
   "execution_count": 26,
   "metadata": {
    "execution": {
     "iopub.execute_input": "2020-12-13T12:36:22.005124Z",
     "iopub.status.busy": "2020-12-13T12:36:21.999794Z",
     "iopub.status.idle": "2020-12-13T12:36:22.219726Z",
     "shell.execute_reply": "2020-12-13T12:36:22.218703Z"
    },
    "papermill": {
     "duration": 0.275251,
     "end_time": "2020-12-13T12:36:22.219847",
     "exception": false,
     "start_time": "2020-12-13T12:36:21.944596",
     "status": "completed"
    },
    "tags": []
   },
   "outputs": [
    {
     "data": {
      "text/plain": [
       "Text(0, 0.5, 'Pclass')"
      ]
     },
     "execution_count": 26,
     "metadata": {},
     "output_type": "execute_result"
    },
    {
     "data": {
      "image/png": "[encoded data removed]",
      "text/plain": [
       "<Figure size 720x432 with 1 Axes>"
      ]
     },
     "metadata": {
      "needs_background": "light"
     },
     "output_type": "display_data"
    }
   ],
   "source": [
    "# Survival with respect to sex and fare \n",
    "plt.figure(figsize=(10,6))\n",
    "\n",
    "# male of different age who survived \n",
    "plt.scatter(train.Parch[train.Survived==1], \n",
    "            train.Pclass[train.Survived==1], \n",
    "            c=\"green\") # define it as a scatter figure\n",
    "\n",
    "# Man of different age who died \n",
    "plt.scatter(train.Parch[train.Survived==0], \n",
    "            train.Pclass[train.Survived==0], \n",
    "            c=\"red\") # axis always come as (x, y)\n",
    "\n",
    "# Add some helpful info\n",
    "plt.title(\"Survival with respect to Pclass and Parch\")\n",
    "plt.xlabel(\"Parch\")\n",
    "plt.legend([\"Survived\", \"Deceased\"])\n",
    "plt.ylabel(\"Pclass\")"
   ]
  },
  {
   "cell_type": "code",
   "execution_count": 27,
   "metadata": {
    "execution": {
     "iopub.execute_input": "2020-12-13T12:36:22.320602Z",
     "iopub.status.busy": "2020-12-13T12:36:22.319892Z",
     "iopub.status.idle": "2020-12-13T12:36:22.332212Z",
     "shell.execute_reply": "2020-12-13T12:36:22.332756Z"
    },
    "papermill": {
     "duration": 0.065997,
     "end_time": "2020-12-13T12:36:22.332904",
     "exception": false,
     "start_time": "2020-12-13T12:36:22.266907",
     "status": "completed"
    },
    "tags": []
   },
   "outputs": [
    {
     "data": {
      "text/html": [
       "<div>\n",
       "<style scoped>\n",
       "    .dataframe tbody tr th:only-of-type {\n",
       "        vertical-align: middle;\n",
       "    }\n",
       "\n",
       "    .dataframe tbody tr th {\n",
       "        vertical-align: top;\n",
       "    }\n",
       "\n",
       "    .dataframe thead th {\n",
       "        text-align: right;\n",
       "    }\n",
       "</style>\n",
       "<table border=\"1\" class=\"dataframe\">\n",
       "  <thead>\n",
       "    <tr style=\"text-align: right;\">\n",
       "      <th></th>\n",
       "      <th>Survived</th>\n",
       "      <th>Pclass</th>\n",
       "      <th>Sex</th>\n",
       "      <th>SibSp</th>\n",
       "      <th>Parch</th>\n",
       "      <th>Fare</th>\n",
       "      <th>Embarked</th>\n",
       "    </tr>\n",
       "  </thead>\n",
       "  <tbody>\n",
       "    <tr>\n",
       "      <th>0</th>\n",
       "      <td>0</td>\n",
       "      <td>3</td>\n",
       "      <td>1</td>\n",
       "      <td>1</td>\n",
       "      <td>0</td>\n",
       "      <td>7.2500</td>\n",
       "      <td>S</td>\n",
       "    </tr>\n",
       "    <tr>\n",
       "      <th>1</th>\n",
       "      <td>1</td>\n",
       "      <td>1</td>\n",
       "      <td>0</td>\n",
       "      <td>1</td>\n",
       "      <td>0</td>\n",
       "      <td>71.2833</td>\n",
       "      <td>C</td>\n",
       "    </tr>\n",
       "    <tr>\n",
       "      <th>2</th>\n",
       "      <td>1</td>\n",
       "      <td>3</td>\n",
       "      <td>0</td>\n",
       "      <td>0</td>\n",
       "      <td>0</td>\n",
       "      <td>7.9250</td>\n",
       "      <td>S</td>\n",
       "    </tr>\n",
       "    <tr>\n",
       "      <th>3</th>\n",
       "      <td>1</td>\n",
       "      <td>1</td>\n",
       "      <td>0</td>\n",
       "      <td>1</td>\n",
       "      <td>0</td>\n",
       "      <td>53.1000</td>\n",
       "      <td>S</td>\n",
       "    </tr>\n",
       "    <tr>\n",
       "      <th>4</th>\n",
       "      <td>0</td>\n",
       "      <td>3</td>\n",
       "      <td>1</td>\n",
       "      <td>0</td>\n",
       "      <td>0</td>\n",
       "      <td>8.0500</td>\n",
       "      <td>S</td>\n",
       "    </tr>\n",
       "  </tbody>\n",
       "</table>\n",
       "</div>"
      ],
      "text/plain": [
       "   Survived  Pclass  Sex  SibSp  Parch    Fare Embarked\n",
       "0         0       3    1      1      0  7.2500        S\n",
       "1         1       1    0      1      0 71.2833        C\n",
       "2         1       3    0      0      0  7.9250        S\n",
       "3         1       1    0      1      0 53.1000        S\n",
       "4         0       3    1      0      0  8.0500        S"
      ]
     },
     "execution_count": 27,
     "metadata": {},
     "output_type": "execute_result"
    }
   ],
   "source": [
    "drop_features = [\"PassengerId\", \"Age\", \"Name\", \"Cabin\", \"died_Age\", \"survived_Age\", \"Ticket\"]\n",
    "train_cut = train.drop(drop_features, axis = 1)\n",
    "train_cut.head()\n",
    "#corr_matrix = train_cut.corr()\n",
    "#corr_matrix[\"Survived\"].sort_values(ascending=False)"
   ]
  },
  {
   "cell_type": "code",
   "execution_count": 28,
   "metadata": {
    "execution": {
     "iopub.execute_input": "2020-12-13T12:36:22.431767Z",
     "iopub.status.busy": "2020-12-13T12:36:22.431128Z",
     "iopub.status.idle": "2020-12-13T12:36:22.436972Z",
     "shell.execute_reply": "2020-12-13T12:36:22.436281Z"
    },
    "papermill": {
     "duration": 0.05657,
     "end_time": "2020-12-13T12:36:22.437100",
     "exception": false,
     "start_time": "2020-12-13T12:36:22.380530",
     "status": "completed"
    },
    "tags": []
   },
   "outputs": [],
   "source": [
    "#train_cut.loc[train_cut.isnull().any(axis=1)]\n",
    "df = train_cut.drop([61,829])"
   ]
  },
  {
   "cell_type": "code",
   "execution_count": 29,
   "metadata": {
    "execution": {
     "iopub.execute_input": "2020-12-13T12:36:22.541353Z",
     "iopub.status.busy": "2020-12-13T12:36:22.540264Z",
     "iopub.status.idle": "2020-12-13T12:36:22.543155Z",
     "shell.execute_reply": "2020-12-13T12:36:22.543724Z"
    },
    "papermill": {
     "duration": 0.059028,
     "end_time": "2020-12-13T12:36:22.543875",
     "exception": false,
     "start_time": "2020-12-13T12:36:22.484847",
     "status": "completed"
    },
    "tags": []
   },
   "outputs": [],
   "source": [
    "from sklearn.base import BaseEstimator, TransformerMixin\n",
    "\n",
    "class DataFrameSelector(BaseEstimator, TransformerMixin):\n",
    "    def __init__(self, attribute_list):\n",
    "        self.attribute_list = attribute_list\n",
    "    def fit(self, X, y=None):\n",
    "        return self\n",
    "    def transform(self, X):\n",
    "        return X[self.attribute_list].values"
   ]
  },
  {
   "cell_type": "code",
   "execution_count": 30,
   "metadata": {
    "execution": {
     "iopub.execute_input": "2020-12-13T12:36:22.643859Z",
     "iopub.status.busy": "2020-12-13T12:36:22.642856Z",
     "iopub.status.idle": "2020-12-13T12:36:22.892671Z",
     "shell.execute_reply": "2020-12-13T12:36:22.891844Z"
    },
    "papermill": {
     "duration": 0.30097,
     "end_time": "2020-12-13T12:36:22.892804",
     "exception": false,
     "start_time": "2020-12-13T12:36:22.591834",
     "status": "completed"
    },
    "tags": []
   },
   "outputs": [],
   "source": [
    "from sklearn.pipeline import Pipeline\n",
    "from sklearn.preprocessing import StandardScaler\n",
    "from sklearn.impute import SimpleImputer\n",
    "\n",
    "\n",
    "num_attributes = [\"SibSp\", \"Parch\", \"Fare\"]\n",
    "cat_attributes = [\"Pclass\", \"Sex\", \"Embarked\"]\n",
    "num_pipeline = Pipeline([\n",
    "        ('selector', DataFrameSelector(num_attributes)),\n",
    "        ('imputer', SimpleImputer(strategy=\"median\")),\n",
    "        ('std_scalar', StandardScaler()),\n",
    "    ])\n",
    "cat_pipeline = Pipeline([\n",
    "        ('selector', DataFrameSelector(cat_attributes)),\n",
    "        ('one_hot_encoder', OneHotEncoder(sparse=False)),\n",
    "    ])"
   ]
  },
  {
   "cell_type": "code",
   "execution_count": 31,
   "metadata": {
    "execution": {
     "iopub.execute_input": "2020-12-13T12:36:22.993361Z",
     "iopub.status.busy": "2020-12-13T12:36:22.992649Z",
     "iopub.status.idle": "2020-12-13T12:36:23.008000Z",
     "shell.execute_reply": "2020-12-13T12:36:23.008604Z"
    },
    "papermill": {
     "duration": 0.067508,
     "end_time": "2020-12-13T12:36:23.008763",
     "exception": false,
     "start_time": "2020-12-13T12:36:22.941255",
     "status": "completed"
    },
    "tags": []
   },
   "outputs": [],
   "source": [
    "# joining both pipelines \n",
    "from sklearn.pipeline import FeatureUnion\n",
    "\n",
    "full_pipeline = FeatureUnion(transformer_list=[\n",
    "    (\"num_pipeline\", num_pipeline),\n",
    "    (\"cat_pipeline\", cat_pipeline),\n",
    "])\n",
    "\n",
    "\n",
    "\n",
    "# it still a numpy array of the shape \n",
    "df.head()\n",
    "\n",
    "X = full_pipeline.fit_transform(df).copy()\n",
    "y = df[\"Survived\"].copy()\n",
    "#ddf = full_pipeline.fit_transform(df)\n",
    "#np.where(ddf.any >= np.finfo(np.float64).max)\n",
    "##\n",
    "#label = df[\"Survived\"].copy()"
   ]
  },
  {
   "cell_type": "code",
   "execution_count": 32,
   "metadata": {
    "execution": {
     "iopub.execute_input": "2020-12-13T12:36:23.110963Z",
     "iopub.status.busy": "2020-12-13T12:36:23.110277Z",
     "iopub.status.idle": "2020-12-13T12:36:23.114682Z",
     "shell.execute_reply": "2020-12-13T12:36:23.115187Z"
    },
    "papermill": {
     "duration": 0.057714,
     "end_time": "2020-12-13T12:36:23.115342",
     "exception": false,
     "start_time": "2020-12-13T12:36:23.057628",
     "status": "completed"
    },
    "tags": []
   },
   "outputs": [],
   "source": [
    "def display_scores(scores):\n",
    "    print(\"Scores:\", scores)\n",
    "    print(\"Mean: \", scores.mean())\n",
    "    print(\"Standard deviation: \", scores.std())"
   ]
  },
  {
   "cell_type": "code",
   "execution_count": 33,
   "metadata": {
    "execution": {
     "iopub.execute_input": "2020-12-13T12:36:23.216045Z",
     "iopub.status.busy": "2020-12-13T12:36:23.215384Z",
     "iopub.status.idle": "2020-12-13T12:36:23.285540Z",
     "shell.execute_reply": "2020-12-13T12:36:23.284911Z"
    },
    "papermill": {
     "duration": 0.121852,
     "end_time": "2020-12-13T12:36:23.285657",
     "exception": false,
     "start_time": "2020-12-13T12:36:23.163805",
     "status": "completed"
    },
    "tags": []
   },
   "outputs": [],
   "source": [
    "from sklearn.linear_model import LogisticRegression\n",
    "from sklearn.neighbors import KNeighborsClassifier\n",
    "from sklearn.ensemble import RandomForestClassifier\n",
    "models = {\"KNN\": KNeighborsClassifier(),\n",
    "          \"Logistic Regression\": LogisticRegression(), \n",
    "          \"Random Forest\": RandomForestClassifier()}"
   ]
  },
  {
   "cell_type": "code",
   "execution_count": 34,
   "metadata": {
    "execution": {
     "iopub.execute_input": "2020-12-13T12:36:23.390761Z",
     "iopub.status.busy": "2020-12-13T12:36:23.390100Z",
     "iopub.status.idle": "2020-12-13T12:36:23.393363Z",
     "shell.execute_reply": "2020-12-13T12:36:23.392691Z"
    },
    "papermill": {
     "duration": 0.059242,
     "end_time": "2020-12-13T12:36:23.393496",
     "exception": false,
     "start_time": "2020-12-13T12:36:23.334254",
     "status": "completed"
    },
    "tags": []
   },
   "outputs": [],
   "source": [
    "def fit_and_score(models, X_train, y_train):\n",
    "    \"\"\"\n",
    "    Fits and evaluates given machine learning models.\n",
    "    models : a dict of different Scikit-Learn machine learning models\n",
    "    X_train : training data\n",
    "    y_train : training label\n",
    "    \"\"\"\n",
    "    # Random seed for reproducible results\n",
    "    np.random.seed(42)\n",
    "    # Make a list to keep model scores\n",
    "    model_scores = {}\n",
    "    # Loop through models\n",
    "    for name, model in models.items():\n",
    "        # Fit the model to the data\n",
    "        model.fit(X_train, y_train)\n",
    "        # Evaluate the model and append its score to model_scores\n",
    "        model_scores[name] = cross_val_score(model, X_train, y_train, scoring=\"accuracy\", cv=3)\n",
    "    return model_scores"
   ]
  },
  {
   "cell_type": "code",
   "execution_count": 35,
   "metadata": {
    "execution": {
     "iopub.execute_input": "2020-12-13T12:36:23.497923Z",
     "iopub.status.busy": "2020-12-13T12:36:23.496259Z",
     "iopub.status.idle": "2020-12-13T12:36:23.582674Z",
     "shell.execute_reply": "2020-12-13T12:36:23.583296Z"
    },
    "papermill": {
     "duration": 0.141173,
     "end_time": "2020-12-13T12:36:23.583451",
     "exception": false,
     "start_time": "2020-12-13T12:36:23.442278",
     "status": "completed"
    },
    "tags": []
   },
   "outputs": [
    {
     "ename": "NameError",
     "evalue": "name 'cross_val_score' is not defined",
     "output_type": "error",
     "traceback": [
      "\u001b[0;31m---------------------------------------------------------------------------\u001b[0m",
      "\u001b[0;31mNameError\u001b[0m                                 Traceback (most recent call last)",
      "\u001b[0;32m<ipython-input-35-8e4bf63dff38>\u001b[0m in \u001b[0;36m<module>\u001b[0;34m\u001b[0m\n\u001b[1;32m      1\u001b[0m model_scores = fit_and_score(models=models,\n\u001b[1;32m      2\u001b[0m                              \u001b[0mX_train\u001b[0m\u001b[0;34m=\u001b[0m\u001b[0mX\u001b[0m\u001b[0;34m,\u001b[0m\u001b[0;34m\u001b[0m\u001b[0;34m\u001b[0m\u001b[0m\n\u001b[0;32m----> 3\u001b[0;31m                              \u001b[0my_train\u001b[0m\u001b[0;34m=\u001b[0m\u001b[0my\u001b[0m\u001b[0;34m\u001b[0m\u001b[0;34m\u001b[0m\u001b[0m\n\u001b[0m\u001b[1;32m      4\u001b[0m                             )\n\u001b[1;32m      5\u001b[0m \u001b[0mmodel_scores\u001b[0m\u001b[0;34m\u001b[0m\u001b[0;34m\u001b[0m\u001b[0m\n",
      "\u001b[0;32m<ipython-input-34-d05e4654ea13>\u001b[0m in \u001b[0;36mfit_and_score\u001b[0;34m(models, X_train, y_train)\u001b[0m\n\u001b[1;32m     15\u001b[0m         \u001b[0mmodel\u001b[0m\u001b[0;34m.\u001b[0m\u001b[0mfit\u001b[0m\u001b[0;34m(\u001b[0m\u001b[0mX_train\u001b[0m\u001b[0;34m,\u001b[0m \u001b[0my_train\u001b[0m\u001b[0;34m)\u001b[0m\u001b[0;34m\u001b[0m\u001b[0;34m\u001b[0m\u001b[0m\n\u001b[1;32m     16\u001b[0m         \u001b[0;31m# Evaluate the model and append its score to model_scores\u001b[0m\u001b[0;34m\u001b[0m\u001b[0;34m\u001b[0m\u001b[0;34m\u001b[0m\u001b[0m\n\u001b[0;32m---> 17\u001b[0;31m         \u001b[0mmodel_scores\u001b[0m\u001b[0;34m[\u001b[0m\u001b[0mname\u001b[0m\u001b[0;34m]\u001b[0m \u001b[0;34m=\u001b[0m \u001b[0mcross_val_score\u001b[0m\u001b[0;34m(\u001b[0m\u001b[0mmodel\u001b[0m\u001b[0;34m,\u001b[0m \u001b[0mX_train\u001b[0m\u001b[0;34m,\u001b[0m \u001b[0my_train\u001b[0m\u001b[0;34m,\u001b[0m \u001b[0mscoring\u001b[0m\u001b[0;34m=\u001b[0m\u001b[0;34m\"accuracy\"\u001b[0m\u001b[0;34m,\u001b[0m \u001b[0mcv\u001b[0m\u001b[0;34m=\u001b[0m\u001b[0;36m3\u001b[0m\u001b[0;34m)\u001b[0m\u001b[0;34m\u001b[0m\u001b[0;34m\u001b[0m\u001b[0m\n\u001b[0m\u001b[1;32m     18\u001b[0m     \u001b[0;32mreturn\u001b[0m \u001b[0mmodel_scores\u001b[0m\u001b[0;34m\u001b[0m\u001b[0;34m\u001b[0m\u001b[0m\n",
      "\u001b[0;31mNameError\u001b[0m: name 'cross_val_score' is not defined"
     ]
    }
   ],
   "source": [
    "model_scores = fit_and_score(models=models,\n",
    "                             X_train=X,\n",
    "                             y_train=y\n",
    "                            )\n",
    "model_scores"
   ]
  },
  {
   "cell_type": "code",
   "execution_count": 36,
   "metadata": {
    "execution": {
     "iopub.execute_input": "2020-12-13T12:36:23.686063Z",
     "iopub.status.busy": "2020-12-13T12:36:23.685382Z",
     "iopub.status.idle": "2020-12-13T12:36:23.983929Z",
     "shell.execute_reply": "2020-12-13T12:36:23.983340Z"
    },
    "papermill": {
     "duration": 0.3505,
     "end_time": "2020-12-13T12:36:23.984074",
     "exception": false,
     "start_time": "2020-12-13T12:36:23.633574",
     "status": "completed"
    },
    "tags": []
   },
   "outputs": [
    {
     "name": "stdout",
     "output_type": "stream",
     "text": [
      "Fitting 5 folds for each of 20 candidates, totalling 100 fits\n"
     ]
    },
    {
     "name": "stderr",
     "output_type": "stream",
     "text": [
      "[Parallel(n_jobs=1)]: Using backend SequentialBackend with 1 concurrent workers.\n",
      "[Parallel(n_jobs=1)]: Done 100 out of 100 | elapsed:    0.3s finished\n"
     ]
    }
   ],
   "source": [
    "from sklearn.model_selection import GridSearchCV\n",
    "\n",
    "# Different LogisticRegression hyperparameters\n",
    "log_reg_grid = {\"C\": np.logspace(-4, 4, 20),\n",
    "                \"solver\": [\"liblinear\"]}\n",
    "\n",
    "# Setup grid hyperparameter search for LogisticRegression\n",
    "\n",
    "gs_log_reg = GridSearchCV(LogisticRegression(),\n",
    "                          param_grid=log_reg_grid,\n",
    "                          cv=5,\n",
    "                          verbose=True)\n",
    "\n",
    "# Fit grid hyperparameter search model\n",
    "gs_log_reg.fit(X, y);"
   ]
  },
  {
   "cell_type": "code",
   "execution_count": 37,
   "metadata": {
    "execution": {
     "iopub.execute_input": "2020-12-13T12:36:24.098931Z",
     "iopub.status.busy": "2020-12-13T12:36:24.097910Z",
     "iopub.status.idle": "2020-12-13T12:36:24.110583Z",
     "shell.execute_reply": "2020-12-13T12:36:24.110084Z"
    },
    "papermill": {
     "duration": 0.076409,
     "end_time": "2020-12-13T12:36:24.110696",
     "exception": false,
     "start_time": "2020-12-13T12:36:24.034287",
     "status": "completed"
    },
    "tags": []
   },
   "outputs": [
    {
     "name": "stdout",
     "output_type": "stream",
     "text": [
      "Length before:  418\n"
     ]
    },
    {
     "data": {
      "text/plain": [
       "418"
      ]
     },
     "execution_count": 37,
     "metadata": {},
     "output_type": "execute_result"
    }
   ],
   "source": [
    "\n",
    "tit_cut = titanic_test.drop([\"Cabin\", \"Age\"], axis= 1)\n",
    "tit_cut.loc[tit_cut.isnull().any(axis=1)]\n",
    "tit_cut.iloc[152]\n",
    "print(\"Length before: \", len(tit_cut))\n",
    "ultimate_test = tit_cut.copy()\n",
    "#test_final = tit_cut.drop(152)\n",
    "#print(\"Length before: \", len(tit_cut))\n",
    "#print(\"Length of test_final: \", len(test_final))\n",
    "#test_final.loc[test_final.isnull().any(axis=1)]\n",
    "#test_final.round(5)\n",
    "test_now = full_pipeline.fit_transform(ultimate_test).copy()\n",
    "test_now[152]\n",
    "#test_some = test_now[153:]\n",
    "#gs_log_reg.predict(test_some)\n",
    "#test_final.loc[test_now.isnull().any(axis=1)]\n",
    "#test_now.shape\n",
    "predictions = gs_log_reg.predict(test_now)\n",
    "len(predictions)\n",
    "#pred = sgd_clf.predict(test_now)"
   ]
  },
  {
   "cell_type": "code",
   "execution_count": 38,
   "metadata": {
    "execution": {
     "iopub.execute_input": "2020-12-13T12:36:24.219739Z",
     "iopub.status.busy": "2020-12-13T12:36:24.219072Z",
     "iopub.status.idle": "2020-12-13T12:36:24.524824Z",
     "shell.execute_reply": "2020-12-13T12:36:24.524238Z"
    },
    "papermill": {
     "duration": 0.363597,
     "end_time": "2020-12-13T12:36:24.524968",
     "exception": false,
     "start_time": "2020-12-13T12:36:24.161371",
     "status": "completed"
    },
    "tags": []
   },
   "outputs": [],
   "source": [
    "# time for first submissions\n",
    "my_submission = pd.DataFrame({'PassengerId': titanic_test.PassengerId, 'Survived': predictions})\n",
    "# you could use any filename. We choose submission here\n",
    "my_submission.to_csv('submission.csv', index=False)\n"
   ]
  },
  {
   "cell_type": "code",
   "execution_count": null,
   "metadata": {
    "papermill": {
     "duration": 0.050714,
     "end_time": "2020-12-13T12:36:24.627297",
     "exception": false,
     "start_time": "2020-12-13T12:36:24.576583",
     "status": "completed"
    },
    "tags": []
   },
   "outputs": [],
   "source": []
  }
 ],
 "metadata": {
  "kernelspec": {
   "display_name": "Python 3",
   "language": "python",
   "name": "python3"
  },
  "language_info": {
   "codemirror_mode": {
    "name": "ipython",
    "version": 3
   },
   "file_extension": ".py",
   "mimetype": "text/x-python",
   "name": "python",
   "nbconvert_exporter": "python",
   "pygments_lexer": "ipython3",
   "version": "3.7.6"
  },
  "papermill": {
   "duration": 15.913293,
   "end_time": "2020-12-13T12:36:24.786166",
   "environment_variables": {},
   "exception": null,
   "input_path": "__notebook__.ipynb",
   "output_path": "__notebook__.ipynb",
   "parameters": {},
   "start_time": "2020-12-13T12:36:08.872873",
   "version": "2.1.0"
  }
 },
 "nbformat": 4,
 "nbformat_minor": 4
}
